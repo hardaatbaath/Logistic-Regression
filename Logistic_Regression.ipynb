{
  "cells": [
    {
      "cell_type": "code",
      "execution_count": 1,
      "metadata": {
        "id": "_6WEBCVzmVLL"
      },
      "outputs": [],
      "source": [
        "# Importing all the necessary libraries\n",
        "import numpy as np\n",
        "import matplotlib.pyplot as plt\n",
        "import math\n",
        "import pandas as pd\n",
        "from sklearn.model_selection import train_test_split \n",
        "from sklearn import metrics\n",
        "from sklearn.linear_model import LogisticRegression\n",
        "clf = LogisticRegression()"
      ]
    },
    {
      "cell_type": "code",
      "execution_count": 2,
      "metadata": {
        "colab": {
          "base_uri": "https://localhost:8080/"
        },
        "id": "p1HcYRkpq27y",
        "outputId": "e0a503a3-4277-4162-a0eb-830f044cacb2"
      },
      "outputs": [
        {
          "name": "stdout",
          "output_type": "stream",
          "text": [
            "Shape of X : (683, 9)\n",
            "Shape of Y : (683,)\n"
          ]
        }
      ],
      "source": [
        "# Importing and collecting data\n",
        "logicreg=pd.read_csv(\"./LogReg_Data.csv\")\n",
        "x=logicreg.drop(columns=['Class','Sample code number'])\n",
        "y=logicreg['Class']\n",
        "x=np.array(x)\n",
        "y=np.array(y)\n",
        "print(f\"Shape of X : {x.shape}\")\n",
        "print(f\"Shape of Y : {y.shape}\")"
      ]
    },
    {
      "cell_type": "code",
      "execution_count": 3,
      "metadata": {
        "id": "6UaZoEHNxvcQ"
      },
      "outputs": [],
      "source": [
        "# Adding X0 to X\n",
        "x1 = np.c_[np.ones(x.shape[0]),x]\n",
        "\n",
        "# Changing the range of y\n",
        "y=(y/2)-1\n",
        "\n",
        "# Splitting the data into training and testing set\n",
        "x_train,x_test,y_train,y_test=train_test_split(x1,y,test_size=0.2,random_state=0)"
      ]
    },
    {
      "cell_type": "code",
      "execution_count": 4,
      "metadata": {
        "id": "S1N4Tltpx2hm"
      },
      "outputs": [],
      "source": [
        "# Defining the Sigmoid function\n",
        "def sigmoid(xb):\n",
        "    return (1.0 / (1.0 + np.exp(-1.0*xb)))"
      ]
    },
    {
      "cell_type": "code",
      "execution_count": 5,
      "metadata": {
        "colab": {
          "base_uri": "https://localhost:8080/",
          "height": 265
        },
        "id": "vlyPF4GRyeic",
        "outputId": "69b16e08-edb2-45dc-b0e8-ae8521e32e71"
      },
      "outputs": [
        {
          "data": {
            "image/png": "[encoded data removed]",
            "text/plain": [
              "<Figure size 432x288 with 1 Axes>"
            ]
          },
          "metadata": {
            "needs_background": "light"
          },
          "output_type": "display_data"
        }
      ],
      "source": [
        "# Drawing the graph for the Sigmoid function\n",
        "sx=range(-20,20)\n",
        "sy=[]\n",
        "for i in sx:\n",
        "    sy.append(sigmoid(i))\n",
        "\n",
        "plt.plot(sx,sy)\n",
        "plt.show()"
      ]
    },
    {
      "cell_type": "code",
      "execution_count": 6,
      "metadata": {
        "id": "w7Ut2tSKylQM"
      },
      "outputs": [],
      "source": [
        "# Defining the prediction function, value of W is taken from the gradienst function\n",
        "def predict(X):\n",
        "    predicted_y=[]\n",
        "    \n",
        "    for xa in X:\n",
        "        \n",
        "        logit = xa.dot(W) #ϴ0*1+ϴ1*X\n",
        "        predicted_y.append(sigmoid(logit)) \n",
        "        \n",
        "    return np.array(predicted_y)"
      ]
    },
    {
      "cell_type": "code",
      "execution_count": 7,
      "metadata": {
        "id": "SLW8I7LAzHd9"
      },
      "outputs": [],
      "source": [
        "# Defining the Cost function\n",
        "def cost_function(predicted_y,y_train,size): \n",
        "\n",
        "    cf=-(1/size)*np.sum( y_train*np.log(predicted_y) + (1-y_train)*np.log(1-predicted_y))\n",
        "    return cf"
      ]
    },
    {
      "cell_type": "code",
      "execution_count": 8,
      "metadata": {
        "id": "Ai9pPGnw9AvU"
      },
      "outputs": [],
      "source": [
        "# Our model to find the value of W with the least Cost\n",
        "def model(X, Y, learning_rate, iterations):\n",
        "    \n",
        "    global W\n",
        "    W=np.zeros(x1.shape[1])\n",
        "    cost_list = []\n",
        "    \n",
        "    for i in range(iterations):\n",
        "        \n",
        "        # Predicting the values for our test data\n",
        "        Yhat = sigmoid(np.dot(W, X.T))\n",
        "        \n",
        "        # Cost function\n",
        "        cost = cost_function(Yhat,Y,X.shape[1])\n",
        "        \n",
        "        # Gradient Descent\n",
        "        dW = (1/X.shape[1])*np.dot(Yhat-Y, X)\n",
        "        \n",
        "        W = W - learning_rate*dW.T\n",
        "        \n",
        "        # Keeping track of our cost function value\n",
        "        cost_list.append(cost)\n",
        "        \n",
        "        if(i%(iterations/10) == 0):\n",
        "            print(f\"Epoch: {i}, Cost: {cost}\")\n",
        "        \n",
        "    return W, cost_list"
      ]
    },
    {
      "cell_type": "code",
      "execution_count": 9,
      "metadata": {
        "colab": {
          "base_uri": "https://localhost:8080/",
          "height": 491
        },
        "id": "b6H7yari9Xvb",
        "outputId": "ea36f121-7455-4520-c7a2-b8bc4551b631"
      },
      "outputs": [
        {
          "name": "stdout",
          "output_type": "stream",
          "text": [
            "Epoch: 0, Cost: 37.84583605857301\n",
            "Epoch: 10000, Cost: 4.166028173243731\n",
            "Epoch: 20000, Cost: 4.160746967615837\n",
            "Epoch: 30000, Cost: 4.160653192330925\n",
            "Epoch: 40000, Cost: 4.160651248754375\n",
            "Epoch: 50000, Cost: 4.160651207622062\n",
            "Epoch: 60000, Cost: 4.160651206748953\n",
            "Epoch: 70000, Cost: 4.160651206730409\n",
            "Epoch: 80000, Cost: 4.160651206730015\n",
            "Epoch: 90000, Cost: 4.160651206730009\n",
            "[]\n"
          ]
        },
        {
          "data": {
            "image/png": "[encoded data removed]",
            "text/plain": [
              "<Figure size 432x288 with 1 Axes>"
            ]
          },
          "metadata": {
            "needs_background": "light"
          },
          "output_type": "display_data"
        }
      ],
      "source": [
        "learning_rate= 0.003 #@param{type:\"number\"}\n",
        "epochs= 100000 #@param {type:\"slider\", min:0, max:100000, step:100}\n",
        "W,total_error=model(x_train,y_train,learning_rate,epochs)\n",
        " \n",
        "plt.plot(range(epochs),total_error)\n",
        "plt.title(\"Loss per Epoch\")\n",
        "plt.xlabel(\"Epochs in 10's\")\n",
        "plt.ylabel(\"Error\")\n",
        "print(plt.plot())"
      ]
    },
    {
      "cell_type": "code",
      "execution_count": 10,
      "metadata": {
        "colab": {
          "base_uri": "https://localhost:8080/"
        },
        "id": "vXMItjCZz3Hs",
        "outputId": "866b7636-8a6f-492c-f168-cdc50a81e71b"
      },
      "outputs": [
        {
          "name": "stdout",
          "output_type": "stream",
          "text": [
            "[0. 0. 1. 1. 0. 0. 0. 1. 0. 0. 1. 0. 1. 0. 0. 1. 1. 1. 1. 0. 0. 0. 1. 0.\n",
            " 1. 1. 0. 0. 0. 1. 0. 1. 1. 0. 0. 0. 1. 1. 0. 1. 0. 0. 0. 0. 0. 0. 0. 1.\n",
            " 0. 0. 1. 0. 1. 0. 0. 0. 1. 1. 0. 1. 0. 0. 0. 0. 0. 0. 0. 0. 1. 1. 0. 0.\n",
            " 0. 0. 0. 0. 1. 0. 0. 0. 1. 0. 1. 0. 0. 1. 0. 1. 1. 0. 1. 0. 1. 1. 1. 1.\n",
            " 1. 1. 1. 0. 0. 0. 1. 1. 0. 0. 1. 1. 0. 0. 1. 0. 0. 1. 0. 0. 0. 1. 0. 0.\n",
            " 0. 1. 0. 0. 1. 1. 0. 1. 0. 1. 0. 0. 1. 0. 0. 1. 0.]\n",
            "[0. 0. 1. 1. 0. 0. 0. 1. 0. 0. 1. 0. 1. 0. 0. 0. 1. 1. 1. 0. 0. 0. 1. 0.\n",
            " 1. 1. 0. 0. 0. 1. 0. 1. 1. 0. 0. 0. 1. 1. 0. 1. 0. 0. 0. 0. 0. 0. 0. 1.\n",
            " 0. 0. 1. 0. 1. 0. 0. 0. 1. 0. 0. 1. 0. 0. 0. 0. 0. 0. 0. 0. 1. 1. 0. 0.\n",
            " 0. 0. 0. 0. 1. 0. 0. 0. 1. 0. 1. 0. 0. 1. 0. 0. 1. 0. 1. 0. 1. 1. 1. 0.\n",
            " 1. 1. 1. 0. 0. 0. 1. 1. 0. 0. 1. 1. 0. 0. 1. 0. 0. 1. 0. 0. 0. 1. 0. 0.\n",
            " 0. 1. 0. 0. 1. 1. 0. 1. 0. 1. 0. 0. 1. 0. 0. 1. 0.]\n"
          ]
        }
      ],
      "source": [
        "# Predicting the Data between 0 and 1\n",
        "yhat= predict(x_test) \n",
        "#print(yhat) [To find the value of 'a' manually]\n",
        "\n",
        "a=0.3  #@param {type:\"slider\", min:-0.5, max:0.5, step:0.01}\n",
        "\n",
        "# If the score is above 'a' we make it 1, else 0\n",
        "for i,v in enumerate(yhat):\n",
        "  if v >=a: \n",
        "      yhat[i]=1\n",
        "  else:\n",
        "      yhat[i]=0\n",
        "\n",
        "# To cross-check our predicted and actual data manually\n",
        "print(yhat)\n",
        "print(y_test)"
      ]
    },
    {
      "cell_type": "code",
      "execution_count": 11,
      "metadata": {
        "colab": {
          "base_uri": "https://localhost:8080/"
        },
        "id": "EtWUn0W3z6Va",
        "outputId": "729bda03-e4c7-4233-f362-3a011e0cae6d"
      },
      "outputs": [
        {
          "name": "stdout",
          "output_type": "stream",
          "text": [
            "4.0\n",
            "0.96\n",
            "\n",
            "[[83  4]\n",
            " [ 0 50]]\n",
            "\n",
            "              precision    recall  f1-score   support\n",
            "\n",
            "           0       1.00      0.95      0.98        87\n",
            "           1       0.93      1.00      0.96        50\n",
            "\n",
            "    accuracy                           0.97       137\n",
            "   macro avg       0.96      0.98      0.97       137\n",
            "weighted avg       0.97      0.97      0.97       137\n",
            "\n"
          ]
        }
      ],
      "source": [
        "# To find the error and accuracy of our model\n",
        "error=sum((yhat-y_test)**2)\n",
        "print(error)\n",
        "accuracy=1-(error/100)\n",
        "print(accuracy)   \n",
        "print()\n",
        "print(metrics.confusion_matrix(y_test, yhat ,labels=[0, 1])) # Confusion Matrix of our model\n",
        "print()\n",
        "print(metrics.classification_report(y_test, yhat, labels=[0, 1])) # Classification report of our model"
      ]
    },
    {
      "cell_type": "code",
      "execution_count": 12,
      "metadata": {
        "colab": {
          "base_uri": "https://localhost:8080/"
        },
        "id": "0BbfYV6K0Lrz",
        "outputId": "7adcc761-2148-4be9-ba05-c6fa3f6f9c53"
      },
      "outputs": [
        {
          "name": "stdout",
          "output_type": "stream",
          "text": [
            "6.0\n"
          ]
        },
        {
          "data": {
            "text/plain": [
              "0.94"
            ]
          },
          "execution_count": 12,
          "metadata": {},
          "output_type": "execute_result"
        }
      ],
      "source": [
        "# Using Sklearn Linear Regression Model for our data\n",
        "clf.fit((x_train),(y_train)) \n",
        "predict_y=clf.predict((x_test))\n",
        "\n",
        "# To find error and accuracy\n",
        "error=sum((predict_y-(y_test))**2)\n",
        "print(error)\n",
        "accuracy=1-(error/100)\n",
        "accuracy"
      ]
    }
  ],
  "metadata": {
    "colab": {
      "collapsed_sections": [],
      "name": "Logistic_Reg.ipynb",
      "provenance": []
    },
    "kernelspec": {
      "display_name": "Python 3.10.5 64-bit",
      "language": "python",
      "name": "python3"
    },
    "language_info": {
      "codemirror_mode": {
        "name": "ipython",
        "version": 3
      },
      "file_extension": ".py",
      "mimetype": "text/x-python",
      "name": "python",
      "nbconvert_exporter": "python",
      "pygments_lexer": "ipython3",
      "version": "3.10.5"
    },
    "vscode": {
      "interpreter": {
        "hash": "949777d72b0d2535278d3dc13498b2535136f6dfe0678499012e853ee9abcab1"
      }
    }
  },
  "nbformat": 4,
  "nbformat_minor": 0
}
